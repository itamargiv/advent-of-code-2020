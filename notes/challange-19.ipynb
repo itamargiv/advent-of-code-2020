{
 "metadata": {
  "language_info": {
   "codemirror_mode": {
    "name": "ipython",
    "version": 3
   },
   "file_extension": ".py",
   "mimetype": "text/x-python",
   "name": "python",
   "nbconvert_exporter": "python",
   "pygments_lexer": "ipython3",
   "version": "3.8.6-final"
  },
  "orig_nbformat": 2,
  "kernelspec": {
   "name": "python38664bit3865111874e971d4cb4843acc1a956c985c",
   "display_name": "Python 3.8.6 64-bit ('3.8.6')",
   "language": "python"
  }
 },
 "nbformat": 4,
 "nbformat_minor": 2,
 "cells": [
  {
   "source": [
    "import itertools as it\n",
    "import math"
   ],
   "cell_type": "code",
   "metadata": {},
   "execution_count": 36,
   "outputs": []
  },
  {
   "source": [
    "k = 3\n",
    "n = 4"
   ],
   "cell_type": "code",
   "metadata": {},
   "execution_count": 37,
   "outputs": []
  },
  {
   "source": [
    "list(it.combinations_with_replacement(range(n), k))"
   ],
   "cell_type": "code",
   "metadata": {},
   "execution_count": 38,
   "outputs": [
    {
     "output_type": "execute_result",
     "data": {
      "text/plain": [
       "[(0, 0, 0),\n",
       " (0, 0, 1),\n",
       " (0, 0, 2),\n",
       " (0, 0, 3),\n",
       " (0, 1, 1),\n",
       " (0, 1, 2),\n",
       " (0, 1, 3),\n",
       " (0, 2, 2),\n",
       " (0, 2, 3),\n",
       " (0, 3, 3),\n",
       " (1, 1, 1),\n",
       " (1, 1, 2),\n",
       " (1, 1, 3),\n",
       " (1, 2, 2),\n",
       " (1, 2, 3),\n",
       " (1, 3, 3),\n",
       " (2, 2, 2),\n",
       " (2, 2, 3),\n",
       " (2, 3, 3),\n",
       " (3, 3, 3)]"
      ]
     },
     "metadata": {},
     "execution_count": 38
    }
   ]
  },
  {
   "cell_type": "code",
   "execution_count": 39,
   "metadata": {},
   "outputs": [
    {
     "output_type": "execute_result",
     "data": {
      "text/plain": [
       "[(0, 1, 2), (0, 1, 3), (0, 2, 3), (1, 2, 3)]"
      ]
     },
     "metadata": {},
     "execution_count": 39
    }
   ],
   "source": [
    "list(it.combinations(range(n), k))"
   ]
  },
  {
   "cell_type": "code",
   "execution_count": 40,
   "metadata": {},
   "outputs": [
    {
     "output_type": "execute_result",
     "data": {
      "text/plain": [
       "4"
      ]
     },
     "metadata": {},
     "execution_count": 40
    }
   ],
   "source": [
    "math.comb(n, k)"
   ]
  },
  {
   "cell_type": "code",
   "execution_count": 41,
   "metadata": {},
   "outputs": [
    {
     "output_type": "execute_result",
     "data": {
      "text/plain": [
       "[(0, 1, 2),\n",
       " (0, 1, 3),\n",
       " (0, 2, 1),\n",
       " (0, 2, 3),\n",
       " (0, 3, 1),\n",
       " (0, 3, 2),\n",
       " (1, 0, 2),\n",
       " (1, 0, 3),\n",
       " (1, 2, 0),\n",
       " (1, 2, 3),\n",
       " (1, 3, 0),\n",
       " (1, 3, 2),\n",
       " (2, 0, 1),\n",
       " (2, 0, 3),\n",
       " (2, 1, 0),\n",
       " (2, 1, 3),\n",
       " (2, 3, 0),\n",
       " (2, 3, 1),\n",
       " (3, 0, 1),\n",
       " (3, 0, 2),\n",
       " (3, 1, 0),\n",
       " (3, 1, 2),\n",
       " (3, 2, 0),\n",
       " (3, 2, 1)]"
      ]
     },
     "metadata": {},
     "execution_count": 41
    }
   ],
   "source": [
    "list(it.permutations(range(n), k))"
   ]
  },
  {
   "cell_type": "code",
   "execution_count": 42,
   "metadata": {},
   "outputs": [
    {
     "output_type": "execute_result",
     "data": {
      "text/plain": [
       "24"
      ]
     },
     "metadata": {},
     "execution_count": 42
    }
   ],
   "source": [
    "math.perm(n, k)"
   ]
  }
 ]
}