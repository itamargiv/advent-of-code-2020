{
 "metadata": {
  "language_info": {
   "codemirror_mode": {
    "name": "ipython",
    "version": 3
   },
   "file_extension": ".py",
   "mimetype": "text/x-python",
   "name": "python",
   "nbconvert_exporter": "python",
   "pygments_lexer": "ipython3",
   "version": "3.8.6-final"
  },
  "orig_nbformat": 2,
  "kernelspec": {
   "name": "python38664bit3865111874e971d4cb4843acc1a956c985c",
   "display_name": "Python 3.8.6 64-bit ('3.8.6')",
   "language": "python"
  }
 },
 "nbformat": 4,
 "nbformat_minor": 2,
 "cells": [
  {
   "source": [
    "from collections import Counter\n",
    "from functools import reduce\n",
    "from IPython.display import display, Markdown\n",
    "\n",
    "import itertools as it\n",
    "import math"
   ],
   "cell_type": "code",
   "metadata": {},
   "execution_count": 23,
   "outputs": []
  },
  {
   "source": [
    "# Combinatorics notes for challange 19\n",
    "\n",
    "Given a chain of 1's with `k` length. Choose `k` from 0 - 3 (`n`). Choose 0 as well to compensate for the fact that actually, the number of slots to choose is unknown, for instance 111 (`k = 3`, 3 slots) is also 12 (`k = 3`, 2 slots)."
   ],
   "cell_type": "markdown",
   "metadata": {}
  },
  {
   "cell_type": "code",
   "execution_count": 24,
   "metadata": {},
   "outputs": [],
   "source": [
    "k = 4\n",
    "n = 3 # This should stay 3 as it is the length of our possible options"
   ]
  },
  {
   "source": [
    "## Permutations?\n",
    "\n",
    "At first it seems like it's a matter of simply counting permutations:"
   ],
   "cell_type": "markdown",
   "metadata": {}
  },
  {
   "cell_type": "code",
   "execution_count": 25,
   "metadata": {},
   "outputs": [
    {
     "output_type": "execute_result",
     "data": {
      "text/plain": [
       "[(0, 1, 2, 3),\n",
       " (0, 1, 3, 2),\n",
       " (0, 2, 1, 3),\n",
       " (0, 2, 3, 1),\n",
       " (0, 3, 1, 2),\n",
       " (0, 3, 2, 1),\n",
       " (1, 0, 2, 3),\n",
       " (1, 0, 3, 2),\n",
       " (1, 2, 0, 3),\n",
       " (1, 2, 3, 0),\n",
       " (1, 3, 0, 2),\n",
       " (1, 3, 2, 0),\n",
       " (2, 0, 1, 3),\n",
       " (2, 0, 3, 1),\n",
       " (2, 1, 0, 3),\n",
       " (2, 1, 3, 0),\n",
       " (2, 3, 0, 1),\n",
       " (2, 3, 1, 0),\n",
       " (3, 0, 1, 2),\n",
       " (3, 0, 2, 1),\n",
       " (3, 1, 0, 2),\n",
       " (3, 1, 2, 0),\n",
       " (3, 2, 0, 1),\n",
       " (3, 2, 1, 0)]"
      ]
     },
     "metadata": {},
     "execution_count": 25
    }
   ],
   "source": [
    "\n",
    "list(it.permutations(range(n + 1), k))"
   ]
  },
  {
   "cell_type": "code",
   "execution_count": 26,
   "metadata": {},
   "outputs": [
    {
     "output_type": "execute_result",
     "data": {
      "text/plain": [
       "24"
      ]
     },
     "metadata": {},
     "execution_count": 26
    }
   ],
   "source": [
    "math.perm(n + 1, k)"
   ]
  },
  {
   "source": [
    "Depending on `k` one of two things just happened here...\n",
    "\n",
    "Either we got an empty list, if k > n + 1, which is understandable, we cannot choose 3 items if all we have is just 1. In that case, we can skip ahead to [Combinations?](#combinations?) \n",
    "\n",
    "Or, if k <= n + 1, everythings fine, but it seems like we need to overcome the duplicates with 0."
   ],
   "cell_type": "markdown",
   "metadata": {}
  },
  {
   "cell_type": "code",
   "execution_count": 27,
   "metadata": {},
   "outputs": [
    {
     "output_type": "execute_result",
     "data": {
      "text/plain": [
       "[[1, 2, 3], [1, 3, 2], [3, 1, 2], [3, 2, 1], [2, 1, 3], [2, 3, 1]]"
      ]
     },
     "metadata": {},
     "execution_count": 27
    }
   ],
   "source": [
    "unique_perms = set(\"\".join(str(d) for d in c if d != 0) for c in it.permutations(range(n + 1), k))\n",
    "\n",
    "list([int(d) for d in s] for s in unique_perms)"
   ]
  },
  {
   "source": [
    "This helps, but we can quickly see that perhaps this is not the correct answer. That is because we didn't define the problem correctly, we don't need **all** permutations of `n = {1, 2, 3}`, we only need those that amount to a total sum of `k = 3`. "
   ],
   "cell_type": "markdown",
   "metadata": {}
  },
  {
   "cell_type": "code",
   "execution_count": 28,
   "metadata": {},
   "outputs": [
    {
     "output_type": "execute_result",
     "data": {
      "text/plain": [
       "[]"
      ]
     },
     "metadata": {},
     "execution_count": 28
    }
   ],
   "source": [
    "unique_perms = set(\"\".join(str(d) for d in c if d != 0) for c in it.permutations(range(n + 1), k) if sum(c) == k)\n",
    "\n",
    "list([int(d) for d in s] for s in unique_perms)"
   ]
  },
  {
   "source": [
    "However, something is missing. What about the sequence 1, 1, ...? What about simply the number `k`? Seems like it might be a matter for combinations with repetitions.\n",
    "\n",
    "## Combinations?"
   ],
   "cell_type": "markdown",
   "metadata": {}
  },
  {
   "source": [
    "list(it.combinations_with_replacement(range(n + 1), k))"
   ],
   "cell_type": "code",
   "metadata": {},
   "execution_count": 29,
   "outputs": [
    {
     "output_type": "execute_result",
     "data": {
      "text/plain": [
       "[(0, 0, 0, 0),\n",
       " (0, 0, 0, 1),\n",
       " (0, 0, 0, 2),\n",
       " (0, 0, 0, 3),\n",
       " (0, 0, 1, 1),\n",
       " (0, 0, 1, 2),\n",
       " (0, 0, 1, 3),\n",
       " (0, 0, 2, 2),\n",
       " (0, 0, 2, 3),\n",
       " (0, 0, 3, 3),\n",
       " (0, 1, 1, 1),\n",
       " (0, 1, 1, 2),\n",
       " (0, 1, 1, 3),\n",
       " (0, 1, 2, 2),\n",
       " (0, 1, 2, 3),\n",
       " (0, 1, 3, 3),\n",
       " (0, 2, 2, 2),\n",
       " (0, 2, 2, 3),\n",
       " (0, 2, 3, 3),\n",
       " (0, 3, 3, 3),\n",
       " (1, 1, 1, 1),\n",
       " (1, 1, 1, 2),\n",
       " (1, 1, 1, 3),\n",
       " (1, 1, 2, 2),\n",
       " (1, 1, 2, 3),\n",
       " (1, 1, 3, 3),\n",
       " (1, 2, 2, 2),\n",
       " (1, 2, 2, 3),\n",
       " (1, 2, 3, 3),\n",
       " (1, 3, 3, 3),\n",
       " (2, 2, 2, 2),\n",
       " (2, 2, 2, 3),\n",
       " (2, 2, 3, 3),\n",
       " (2, 3, 3, 3),\n",
       " (3, 3, 3, 3)]"
      ]
     },
     "metadata": {},
     "execution_count": 29
    }
   ]
  },
  {
   "source": [
    "That seems to do the trick, let's just add the filtering condition:"
   ],
   "cell_type": "markdown",
   "metadata": {}
  },
  {
   "cell_type": "code",
   "execution_count": 30,
   "metadata": {},
   "outputs": [
    {
     "output_type": "display_data",
     "data": {
      "text/plain": "[(0, 0, 1, 3), (0, 0, 2, 2), (0, 1, 1, 2), (1, 1, 1, 1)]"
     },
     "metadata": {}
    }
   ],
   "source": [
    "possible_combinations = list(c for c in it.combinations_with_replacement(range(n + 1), k) if sum(c) == k)\n",
    "\n",
    "display(possible_combinations)\n"
   ]
  },
  {
   "source": [
    "Great, but now we lost the possible permutations... Time to count those as well (but remember to trim the 0s).\n",
    "\n",
    "## Both?"
   ],
   "cell_type": "markdown",
   "metadata": {}
  },
  {
   "cell_type": "code",
   "execution_count": 31,
   "metadata": {},
   "outputs": [
    {
     "output_type": "display_data",
     "data": {
      "text/plain": "[[1, 3], [2, 2], [1, 1, 2], [1, 1, 1, 1]]"
     },
     "metadata": {}
    },
    {
     "output_type": "display_data",
     "data": {
      "text/plain": "[[(1, 3), (3, 1)],\n [(2, 2), (2, 2)],\n [(1, 1, 2), (1, 2, 1), (1, 1, 2), (1, 2, 1), (2, 1, 1), (2, 1, 1)],\n [(1, 1, 1, 1),\n  (1, 1, 1, 1),\n  (1, 1, 1, 1),\n  (1, 1, 1, 1),\n  (1, 1, 1, 1),\n  (1, 1, 1, 1),\n  (1, 1, 1, 1),\n  (1, 1, 1, 1),\n  (1, 1, 1, 1),\n  (1, 1, 1, 1),\n  (1, 1, 1, 1),\n  (1, 1, 1, 1),\n  (1, 1, 1, 1),\n  (1, 1, 1, 1),\n  (1, 1, 1, 1),\n  (1, 1, 1, 1),\n  (1, 1, 1, 1),\n  (1, 1, 1, 1),\n  (1, 1, 1, 1),\n  (1, 1, 1, 1),\n  (1, 1, 1, 1),\n  (1, 1, 1, 1),\n  (1, 1, 1, 1),\n  (1, 1, 1, 1)]]"
     },
     "metadata": {}
    }
   ],
   "source": [
    "\n",
    "trimmed_combinations = list([d for d in c if d != 0] for c in possible_combinations)\n",
    "\n",
    "display(trimmed_combinations)\n",
    "\n",
    "if k < 10:\n",
    " display([list(it.permutations(c, len(c))) for c in trimmed_combinations])\n",
    "else:\n",
    " display(Markdown(f'Sorry, {k} is too much to calculate...'))\n"
   ]
  },
  {
   "source": [
    "That's still not quite right. Obviously, it counts **all** permutations, without discounting possible duplicate ones. What about this metod?"
   ],
   "cell_type": "markdown",
   "metadata": {}
  },
  {
   "cell_type": "code",
   "execution_count": 32,
   "metadata": {},
   "outputs": [
    {
     "output_type": "execute_result",
     "data": {
      "text/plain": [
       "[[(1, 3), (3, 1)], [], [], []]"
      ]
     },
     "metadata": {},
     "execution_count": 32
    }
   ],
   "source": [
    "[list(it.permutations(set(c), len(c))) for c in trimmed_combinations]"
   ]
  },
  {
   "source": [
    "Nope, this does not work either... We cannot choose `k` items (`len(c)`) with a set of only `n` options (`set(c)`) without knowing how many times we want to do so. \n",
    "\n",
    "However, we can calculate it's potential length - it would be the amount of permutations of `k` discounting (by division) the amount of each reptition:\n",
    "\n",
    "$$\\frac{k!}{r_1! \\times \\ldots \\times r_n!}$$"
   ],
   "cell_type": "markdown",
   "metadata": {}
  },
  {
   "cell_type": "code",
   "execution_count": 33,
   "metadata": {},
   "outputs": [
    {
     "output_type": "display_data",
     "data": {
      "text/plain": "[2, 1, 3, 1]"
     },
     "metadata": {}
    }
   ],
   "source": [
    "def perms_with_repetition(n, k):\n",
    "    perms = math.factorial(k)\n",
    "    reps = reduce(lambda m, r: m * math.factorial(r), Counter(n).values(), 1)\n",
    "    return int(perms / reps)\n",
    "\n",
    "possible_permutations = [perms_with_repetition(c, len(c)) for c in trimmed_combinations]\n",
    "\n",
    "display(possible_permutations)\n"
   ]
  },
  {
   "source": [
    "Sweet! now all that's left to do is to sum up these permutations:"
   ],
   "cell_type": "markdown",
   "metadata": {}
  },
  {
   "cell_type": "code",
   "execution_count": 34,
   "metadata": {},
   "outputs": [
    {
     "output_type": "execute_result",
     "data": {
      "text/plain": [
       "7"
      ]
     },
     "metadata": {},
     "execution_count": 34
    }
   ],
   "source": [
    "sum(possible_permutations)"
   ]
  },
  {
   "source": [
    "## What about the integer solutions method?"
   ],
   "cell_type": "markdown",
   "metadata": {}
  },
  {
   "source": [
    "As we essentially have  a limited sum of integers (`k`) and a maximum number of slots to put them in (also `k`), this problem might be solved more efficiently if we regard this as an integer solutions problem of the form:\n",
    "\n",
    "$$x_1 + \\ldots + x_r = n \\mbox{ for every } 0 \\leq x \\leq 3$$\n",
    "\n",
    "Where both $n, r = k$, in our case. Therefore, at first we must find the amount for solutions to:\n",
    "\n",
    "$$x_1 + \\ldots + x_r = n \\mbox{ for every } 0 \\leq x$$\n",
    "\n",
    "Which can be achieved by using the formula \n",
    "\n",
    "$${n + r - 1 \\choose n}$$\n",
    "\n",
    "or, in our case \n",
    "\n",
    "$${2k - 1 \\choose k}$$"
   ],
   "cell_type": "markdown",
   "metadata": {}
  },
  {
   "cell_type": "code",
   "execution_count": 35,
   "metadata": {},
   "outputs": [
    {
     "output_type": "display_data",
     "data": {
      "text/plain": "35"
     },
     "metadata": {}
    }
   ],
   "source": [
    "total_combinations = math.comb(2 * k - 1, k)\n",
    "display(total_combinations)"
   ]
  },
  {
   "source": [
    "That is waay too many combinations. Of course, we need to exclude the ones where $x > 3$. and so, we need to solve for\n",
    "\n",
    "$$\n",
    "x_1` = x_1 - 4 \\\\ \n",
    "x_1` + 4 = x_1\n",
    "$$\n",
    "\n",
    "and so\n",
    "\n",
    "$$\n",
    "x_1` + 4 + \\ldots + x_r = n \\\\\n",
    "x_1` + \\ldots + x_r = n - 4\n",
    "$$\n",
    "\n",
    "Which then least us to the formula\n",
    "\n",
    "$$\n",
    "{ n - 4 + r - 1 \\choose n - 4 }\n",
    "$$\n",
    "\n",
    "or, in our case\n",
    "\n",
    "$$\n",
    "{2k - 5 \\choose k - 4}\n",
    "$$"
   ],
   "cell_type": "markdown",
   "metadata": {}
  },
  {
   "cell_type": "code",
   "execution_count": 36,
   "metadata": {},
   "outputs": [
    {
     "output_type": "execute_result",
     "data": {
      "text/plain": [
       "1"
      ]
     },
     "metadata": {},
     "execution_count": 36
    }
   ],
   "source": [
    "math.comb(2 * k - 5, k - 4)"
   ]
  },
  {
   "source": [
    "This result should be multiplied by the amount of variables in our eqution ($r$ or `k` in our case)."
   ],
   "cell_type": "markdown",
   "metadata": {}
  },
  {
   "cell_type": "code",
   "execution_count": 37,
   "metadata": {},
   "outputs": [
    {
     "output_type": "display_data",
     "data": {
      "text/plain": "4"
     },
     "metadata": {}
    }
   ],
   "source": [
    "total_outbound = math.comb(2 * k - 5, k - 4) * k\n",
    "display(total_outbound)"
   ]
  },
  {
   "source": [
    "and so even if we exclude them, we end up with a number that is too high (or too low, depending on the total sum)."
   ],
   "cell_type": "markdown",
   "metadata": {}
  },
  {
   "cell_type": "code",
   "execution_count": 38,
   "metadata": {},
   "outputs": [
    {
     "output_type": "execute_result",
     "data": {
      "text/plain": [
       "31"
      ]
     },
     "metadata": {},
     "execution_count": 38
    }
   ],
   "source": [
    "total_combinations - total_outbound"
   ]
  },
  {
   "source": [
    "Wait wait wait, something odd might have happened here - if k >= 18, we just got a negetive number... That is becuase of apparent [duplicate counting](https://math.stackexchange.com/questions/203835/enumerating-number-of-solutions-to-an-equation). \n",
    "\n",
    "Slyly ignoring that possibility, let's try to visualize this with a smaller number. What we are trying to achieve, is to essentially decide where to put the dividers between a series of 1's. so that if we have 3 1's like so:\n",
    "\n",
    "```\n",
    "1 1 1\n",
    "```\n",
    "We would have 3 - 1 = 2 additional slots to put dividers in:\n",
    "\n",
    "```\n",
    "1 _ 1 _ 1\n",
    "```\n",
    "\n",
    "or, all together, 5 potential places to put dividers:\n",
    "\n",
    "```\n",
    "- - - - -\n",
    "```\n",
    "\n",
    "Which we can get the indices of. To formalize this, we will be choosing $l - 1$ divider positions from a range of 0 to $(2l - 1)$ (another way to look at is , is that we are choosing $l$ positions in which we want to keep our 1's)."
   ],
   "cell_type": "markdown",
   "metadata": {}
  },
  {
   "cell_type": "code",
   "execution_count": 39,
   "metadata": {},
   "outputs": [
    {
     "output_type": "display_data",
     "data": {
      "text/plain": "[(0, 1, 2),\n (0, 1, 3),\n (0, 1, 4),\n (0, 1, 5),\n (0, 1, 6),\n (0, 2, 3),\n (0, 2, 4),\n (0, 2, 5),\n (0, 2, 6),\n (0, 3, 4),\n (0, 3, 5),\n (0, 3, 6),\n (0, 4, 5),\n (0, 4, 6),\n (0, 5, 6),\n (1, 2, 3),\n (1, 2, 4),\n (1, 2, 5),\n (1, 2, 6),\n (1, 3, 4),\n (1, 3, 5),\n (1, 3, 6),\n (1, 4, 5),\n (1, 4, 6),\n (1, 5, 6),\n (2, 3, 4),\n (2, 3, 5),\n (2, 3, 6),\n (2, 4, 5),\n (2, 4, 6),\n (2, 5, 6),\n (3, 4, 5),\n (3, 4, 6),\n (3, 5, 6),\n (4, 5, 6)]"
     },
     "metadata": {}
    }
   ],
   "source": [
    "l = k\n",
    "m = 2 * l - 1\n",
    "\n",
    "current_combinations = math.comb(m, l)\n",
    "\n",
    "if l < 10:\n",
    "    possible_divisions = list(it.combinations(range(m), l - 1))\n",
    "    display(possible_divisions)\n",
    "else:\n",
    "    display(Markdown(f'Sorry... ${m} \\choose {l - 1}$ is still too big to enumerate'))"
   ]
  },
  {
   "source": [
    "To visualize this: if we choose 2 places out of these 5 - for example 0 and 3 - we will end up with something like this:\n",
    "\n",
    "```\n",
    "| 1 1 | 1\n",
    "```"
   ],
   "cell_type": "markdown",
   "metadata": {}
  },
  {
   "cell_type": "code",
   "execution_count": 48,
   "metadata": {},
   "outputs": [
    {
     "output_type": "display_data",
     "data": {
      "text/plain": "['| | | 1 1 1 1',\n '| | 1 | 1 1 1',\n '| | 1 1 | 1 1',\n '| | 1 1 1 | 1',\n '| | 1 1 1 1 |',\n '| 1 | | 1 1 1',\n '| 1 | 1 | 1 1',\n '| 1 | 1 1 | 1',\n '| 1 | 1 1 1 |',\n '| 1 1 | | 1 1',\n '| 1 1 | 1 | 1',\n '| 1 1 | 1 1 |',\n '| 1 1 1 | | 1',\n '| 1 1 1 | 1 |',\n '| 1 1 1 1 | |',\n '1 | | | 1 1 1',\n '1 | | 1 | 1 1',\n '1 | | 1 1 | 1',\n '1 | | 1 1 1 |',\n '1 | 1 | | 1 1',\n '1 | 1 | 1 | 1',\n '1 | 1 | 1 1 |',\n '1 | 1 1 | | 1',\n '1 | 1 1 | 1 |',\n '1 | 1 1 1 | |',\n '1 1 | | | 1 1',\n '1 1 | | 1 | 1',\n '1 1 | | 1 1 |',\n '1 1 | 1 | | 1',\n '1 1 | 1 | 1 |',\n '1 1 | 1 1 | |',\n '1 1 1 | | | 1',\n '1 1 1 | | 1 |',\n '1 1 1 | 1 | |',\n '1 1 1 1 | | |']"
     },
     "metadata": {}
    }
   ],
   "source": [
    "if l < 10:\n",
    "    display([\" \".join(list(\"|\" if i in divs else \"1\" for i in range(m))) for divs in possible_divisions])\n",
    "else:\n",
    "    display(Markdown(f'Can\\'t visualize {current_combinations} possibilities'))"
   ]
  },
  {
   "source": [
    "If we count these, we will actually get the possible combination `(0, 2, 1)` for example.\n"
   ],
   "cell_type": "markdown",
   "metadata": {}
  },
  {
   "cell_type": "code",
   "execution_count": 41,
   "metadata": {},
   "outputs": [],
   "source": [
    "if l < 10:\n",
    "    [\n",
    "        reduce(\n",
    "            lambda c, i: c[:-1] + [c[-1] + 1] \n",
    "                if i not in div \n",
    "                else c + [0], \n",
    "            range(m), \n",
    "            [0]\n",
    "        ) \n",
    "        for div in possible_divisions\n",
    "    ]\n",
    "else:\n",
    "     display(Markdown(f'Really I cannot count {current_combinations} possibilites'))\n",
    "        "
   ]
  },
  {
   "source": [
    "Now we can clearly see that there are a few duplicates in this result. Let's trim the 0's and dedupe."
   ],
   "cell_type": "markdown",
   "metadata": {}
  },
  {
   "cell_type": "code",
   "execution_count": 42,
   "metadata": {},
   "outputs": [
    {
     "output_type": "display_data",
     "data": {
      "text/plain": "[[4],\n [1, 3],\n [2, 2],\n [3, 1],\n [4],\n [1, 3],\n [1, 1, 2],\n [1, 2, 1],\n [1, 3],\n [2, 2],\n [2, 1, 1],\n [2, 2],\n [3, 1],\n [3, 1],\n [4],\n [1, 3],\n [1, 1, 2],\n [1, 2, 1],\n [1, 3],\n [1, 1, 2],\n [1, 1, 1, 1],\n [1, 1, 2],\n [1, 2, 1],\n [1, 2, 1],\n [1, 3],\n [2, 2],\n [2, 1, 1],\n [2, 2],\n [2, 1, 1],\n [2, 1, 1],\n [2, 2],\n [3, 1],\n [3, 1],\n [3, 1],\n [4]]"
     },
     "metadata": {}
    }
   ],
   "source": [
    "if l < 10:\n",
    "    possible_solutions = [\n",
    "        reduce(\n",
    "            lambda c, i: c[:-1] + [c[-1] + 1] \n",
    "                if i not in div\n",
    "                else c if c[-1] == 0 or sum(c) == l \n",
    "                else c + [0], \n",
    "            range(m), \n",
    "            [0]\n",
    "        ) \n",
    "        for div in possible_divisions\n",
    "    ]\n",
    "\n",
    "    display(possible_solutions)\n",
    "\n",
    "    Counter(str(s) for s in possible_solutions)\n",
    "else:\n",
    "     display(Markdown(f'Unfortunately, I cannot summerize the possible integer solutions for the sum of {l} integers'))"
   ]
  },
  {
   "source": [
    "That looks good! That is, if $l = 3$... for any number bigger than 3 this will also give divisions including 4 and up. Let's get rid of those as well."
   ],
   "cell_type": "markdown",
   "metadata": {}
  },
  {
   "source": [
    "if l < 10:\n",
    "    perm_distribution = Counter(str(s) for s in possible_solutions if all(d <= 3 for d in s))\n",
    "    display(perm_distribution)\n",
    "else:\n",
    "     display(Markdown(f'Still {current_combinations - (math.comb(2 * l - 5, l - 4) * k)} is too much for me to handle'))"
   ],
   "cell_type": "code",
   "metadata": {},
   "execution_count": 43,
   "outputs": [
    {
     "output_type": "display_data",
     "data": {
      "text/plain": "Counter({'[1, 3]': 6,\n         '[2, 2]': 6,\n         '[3, 1]': 6,\n         '[1, 1, 2]': 4,\n         '[1, 2, 1]': 4,\n         '[2, 1, 1]': 4,\n         '[1, 1, 1, 1]': 1})"
     },
     "metadata": {}
    }
   ]
  },
  {
   "source": [
    "## Pure Mathematics"
   ],
   "cell_type": "markdown",
   "metadata": {}
  },
  {
   "source": [
    "When summerizing the numbers from the above methods, we will end up with something like this:"
   ],
   "cell_type": "markdown",
   "metadata": {}
  },
  {
   "cell_type": "code",
   "execution_count": 44,
   "metadata": {},
   "outputs": [
    {
     "output_type": "display_data",
     "data": {
      "text/plain": "<IPython.core.display.Markdown object>",
      "text/markdown": "**Length of chain**: 4"
     },
     "metadata": {}
    },
    {
     "output_type": "display_data",
     "data": {
      "text/plain": "<IPython.core.display.Markdown object>",
      "text/markdown": "**Total Solutions (for 7 slots)**: 35"
     },
     "metadata": {}
    },
    {
     "output_type": "display_data",
     "data": {
      "text/plain": "<IPython.core.display.Markdown object>",
      "text/markdown": "$x > 3$: 4"
     },
     "metadata": {}
    },
    {
     "output_type": "display_data",
     "data": {
      "text/plain": "<IPython.core.display.Markdown object>",
      "text/markdown": "**Solutions w. Duplicates **: 31"
     },
     "metadata": {}
    },
    {
     "output_type": "display_data",
     "data": {
      "text/plain": "<IPython.core.display.Markdown object>",
      "text/markdown": "**Total Duplicates**: 28"
     },
     "metadata": {}
    },
    {
     "output_type": "display_data",
     "data": {
      "text/plain": "<IPython.core.display.Markdown object>",
      "text/markdown": "**Valid Soutions**: 7"
     },
     "metadata": {}
    }
   ],
   "source": [
    "display(Markdown(f'**Length of chain**: {l}'))\n",
    "display(Markdown(f'**Total Solutions (for {m} slots)**: {total_combinations}'))\n",
    "display(Markdown(f'$x > 3$: {total_outbound}'))\n",
    "display(Markdown(f'**Solutions w. Duplicates **: {total_combinations - total_outbound}'))\n",
    "display(Markdown(f'**Total Duplicates**: {total_combinations - sum(possible_permutations)}'))\n",
    "display(Markdown(f'**Valid Soutions**: {sum(possible_permutations)}'))"
   ]
  },
  {
   "source": [
    "However, one question remains. _**How can we find a more efficient solution, which doesn't involve enumerating our possible combinations?**_ or, on other words _**What would be the formula to get the total number of duplicates?**_ "
   ],
   "cell_type": "markdown",
   "metadata": {}
  }
 ]
}